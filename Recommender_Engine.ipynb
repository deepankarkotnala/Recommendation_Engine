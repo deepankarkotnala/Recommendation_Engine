{
 "cells": [
  {
   "cell_type": "markdown",
   "metadata": {},
   "source": [
    "# Recommender System\n",
    "\n",
    "We will be developing a movie recommender system based upon Collaborative-filtering to predict the name of the movie based upon the reviews of the other critics having similar taste. The systesm uses two different methods for finding similairties between the critics known as Euclidean-Distance-Score and Pearson-Correlation-Score. The final reault for both the methods were almost similar. After finding the similarity between critics, it uses the weighted average method to assign higher weight to the peer interest critics. Finally, It normalizes the score by deviding it by the similarities of the critics who reviewed that movie.\n",
    "\n",
    "\n",
    "#### Finding Similar DataPoint\n",
    "\n",
    "Two ways for calculating similarity scores : \n",
    "1. Euclidean Distance Score\n",
    "2. Pearson Correlation Score\n",
    "\n",
    "<hr style=\"height:2px\">"
   ]
  },
  {
   "cell_type": "code",
   "execution_count": 1,
   "metadata": {
    "collapsed": true
   },
   "outputs": [],
   "source": [
    "# Import Packages\n",
    "\n",
    "from math import sqrt\n",
    "import pandas as pd\n",
    "import numpy as np\n",
    "from matplotlib import pyplot as plt\n",
    "\n",
    "# Getting more than one output Line\n",
    "from IPython.core.interactiveshell import InteractiveShell\n",
    "InteractiveShell.ast_node_interactivity = \"all\""
   ]
  },
  {
   "cell_type": "code",
   "execution_count": 5,
   "metadata": {},
   "outputs": [
    {
     "data": {
      "text/html": [
       "<div>\n",
       "<style scoped>\n",
       "    .dataframe tbody tr th:only-of-type {\n",
       "        vertical-align: middle;\n",
       "    }\n",
       "\n",
       "    .dataframe tbody tr th {\n",
       "        vertical-align: top;\n",
       "    }\n",
       "\n",
       "    .dataframe thead th {\n",
       "        text-align: right;\n",
       "    }\n",
       "</style>\n",
       "<table border=\"1\" class=\"dataframe\">\n",
       "  <thead>\n",
       "    <tr style=\"text-align: right;\">\n",
       "      <th></th>\n",
       "      <th>movieId</th>\n",
       "      <th>title</th>\n",
       "      <th>genres</th>\n",
       "    </tr>\n",
       "  </thead>\n",
       "  <tbody>\n",
       "    <tr>\n",
       "      <th>0</th>\n",
       "      <td>1</td>\n",
       "      <td>Toy Story (1995)</td>\n",
       "      <td>Adventure|Animation|Children|Comedy|Fantasy</td>\n",
       "    </tr>\n",
       "    <tr>\n",
       "      <th>1</th>\n",
       "      <td>2</td>\n",
       "      <td>Jumanji (1995)</td>\n",
       "      <td>Adventure|Children|Fantasy</td>\n",
       "    </tr>\n",
       "    <tr>\n",
       "      <th>2</th>\n",
       "      <td>3</td>\n",
       "      <td>Grumpier Old Men (1995)</td>\n",
       "      <td>Comedy|Romance</td>\n",
       "    </tr>\n",
       "    <tr>\n",
       "      <th>3</th>\n",
       "      <td>4</td>\n",
       "      <td>Waiting to Exhale (1995)</td>\n",
       "      <td>Comedy|Drama|Romance</td>\n",
       "    </tr>\n",
       "    <tr>\n",
       "      <th>4</th>\n",
       "      <td>5</td>\n",
       "      <td>Father of the Bride Part II (1995)</td>\n",
       "      <td>Comedy</td>\n",
       "    </tr>\n",
       "  </tbody>\n",
       "</table>\n",
       "</div>"
      ],
      "text/plain": [
       "   movieId                               title  \\\n",
       "0        1                    Toy Story (1995)   \n",
       "1        2                      Jumanji (1995)   \n",
       "2        3             Grumpier Old Men (1995)   \n",
       "3        4            Waiting to Exhale (1995)   \n",
       "4        5  Father of the Bride Part II (1995)   \n",
       "\n",
       "                                        genres  \n",
       "0  Adventure|Animation|Children|Comedy|Fantasy  \n",
       "1                   Adventure|Children|Fantasy  \n",
       "2                               Comedy|Romance  \n",
       "3                         Comedy|Drama|Romance  \n",
       "4                                       Comedy  "
      ]
     },
     "execution_count": 5,
     "metadata": {},
     "output_type": "execute_result"
    },
    {
     "data": {
      "text/html": [
       "<div>\n",
       "<style scoped>\n",
       "    .dataframe tbody tr th:only-of-type {\n",
       "        vertical-align: middle;\n",
       "    }\n",
       "\n",
       "    .dataframe tbody tr th {\n",
       "        vertical-align: top;\n",
       "    }\n",
       "\n",
       "    .dataframe thead th {\n",
       "        text-align: right;\n",
       "    }\n",
       "</style>\n",
       "<table border=\"1\" class=\"dataframe\">\n",
       "  <thead>\n",
       "    <tr style=\"text-align: right;\">\n",
       "      <th></th>\n",
       "      <th>userId</th>\n",
       "      <th>movieId</th>\n",
       "      <th>rating</th>\n",
       "    </tr>\n",
       "  </thead>\n",
       "  <tbody>\n",
       "    <tr>\n",
       "      <th>0</th>\n",
       "      <td>1</td>\n",
       "      <td>31</td>\n",
       "      <td>2.5</td>\n",
       "    </tr>\n",
       "    <tr>\n",
       "      <th>1</th>\n",
       "      <td>1</td>\n",
       "      <td>1029</td>\n",
       "      <td>3.0</td>\n",
       "    </tr>\n",
       "    <tr>\n",
       "      <th>2</th>\n",
       "      <td>1</td>\n",
       "      <td>1061</td>\n",
       "      <td>3.0</td>\n",
       "    </tr>\n",
       "    <tr>\n",
       "      <th>3</th>\n",
       "      <td>1</td>\n",
       "      <td>1129</td>\n",
       "      <td>2.0</td>\n",
       "    </tr>\n",
       "    <tr>\n",
       "      <th>4</th>\n",
       "      <td>1</td>\n",
       "      <td>1172</td>\n",
       "      <td>4.0</td>\n",
       "    </tr>\n",
       "  </tbody>\n",
       "</table>\n",
       "</div>"
      ],
      "text/plain": [
       "   userId  movieId  rating\n",
       "0       1       31     2.5\n",
       "1       1     1029     3.0\n",
       "2       1     1061     3.0\n",
       "3       1     1129     2.0\n",
       "4       1     1172     4.0"
      ]
     },
     "execution_count": 5,
     "metadata": {},
     "output_type": "execute_result"
    },
    {
     "data": {
      "text/html": [
       "<div>\n",
       "<style scoped>\n",
       "    .dataframe tbody tr th:only-of-type {\n",
       "        vertical-align: middle;\n",
       "    }\n",
       "\n",
       "    .dataframe tbody tr th {\n",
       "        vertical-align: top;\n",
       "    }\n",
       "\n",
       "    .dataframe thead th {\n",
       "        text-align: right;\n",
       "    }\n",
       "</style>\n",
       "<table border=\"1\" class=\"dataframe\">\n",
       "  <thead>\n",
       "    <tr style=\"text-align: right;\">\n",
       "      <th></th>\n",
       "      <th>userId</th>\n",
       "      <th>movieId</th>\n",
       "      <th>tag</th>\n",
       "      <th>timestamp</th>\n",
       "    </tr>\n",
       "  </thead>\n",
       "  <tbody>\n",
       "    <tr>\n",
       "      <th>0</th>\n",
       "      <td>15</td>\n",
       "      <td>339</td>\n",
       "      <td>sandra 'boring' bullock</td>\n",
       "      <td>1138537770</td>\n",
       "    </tr>\n",
       "    <tr>\n",
       "      <th>1</th>\n",
       "      <td>15</td>\n",
       "      <td>1955</td>\n",
       "      <td>dentist</td>\n",
       "      <td>1193435061</td>\n",
       "    </tr>\n",
       "    <tr>\n",
       "      <th>2</th>\n",
       "      <td>15</td>\n",
       "      <td>7478</td>\n",
       "      <td>Cambodia</td>\n",
       "      <td>1170560997</td>\n",
       "    </tr>\n",
       "    <tr>\n",
       "      <th>3</th>\n",
       "      <td>15</td>\n",
       "      <td>32892</td>\n",
       "      <td>Russian</td>\n",
       "      <td>1170626366</td>\n",
       "    </tr>\n",
       "    <tr>\n",
       "      <th>4</th>\n",
       "      <td>15</td>\n",
       "      <td>34162</td>\n",
       "      <td>forgettable</td>\n",
       "      <td>1141391765</td>\n",
       "    </tr>\n",
       "  </tbody>\n",
       "</table>\n",
       "</div>"
      ],
      "text/plain": [
       "   userId  movieId                      tag   timestamp\n",
       "0      15      339  sandra 'boring' bullock  1138537770\n",
       "1      15     1955                  dentist  1193435061\n",
       "2      15     7478                 Cambodia  1170560997\n",
       "3      15    32892                  Russian  1170626366\n",
       "4      15    34162              forgettable  1141391765"
      ]
     },
     "execution_count": 5,
     "metadata": {},
     "output_type": "execute_result"
    }
   ],
   "source": [
    "# Getting the Dataset\n",
    "\n",
    "movies= pd.read_csv(\"data/movies.csv\") # -------- nrows=5000)\n",
    "movies.head()\n",
    "\n",
    "ratings=pd.read_csv(\"data/ratings.csv\",usecols=['userId','movieId','rating']) # -------- nrows=1000)\n",
    "ratings.head()\n",
    "\n",
    "tags= pd.read_csv('data/tags.csv')\n",
    "tags.head()"
   ]
  },
  {
   "cell_type": "code",
   "execution_count": 6,
   "metadata": {},
   "outputs": [
    {
     "data": {
      "text/html": [
       "<div>\n",
       "<style scoped>\n",
       "    .dataframe tbody tr th:only-of-type {\n",
       "        vertical-align: middle;\n",
       "    }\n",
       "\n",
       "    .dataframe tbody tr th {\n",
       "        vertical-align: top;\n",
       "    }\n",
       "\n",
       "    .dataframe thead th {\n",
       "        text-align: right;\n",
       "    }\n",
       "</style>\n",
       "<table border=\"1\" class=\"dataframe\">\n",
       "  <thead>\n",
       "    <tr style=\"text-align: right;\">\n",
       "      <th></th>\n",
       "      <th>userId</th>\n",
       "      <th>movieId</th>\n",
       "      <th>tag</th>\n",
       "    </tr>\n",
       "  </thead>\n",
       "  <tbody>\n",
       "    <tr>\n",
       "      <th>0</th>\n",
       "      <td>15</td>\n",
       "      <td>339</td>\n",
       "      <td>sandra 'boring' bullock</td>\n",
       "    </tr>\n",
       "    <tr>\n",
       "      <th>1</th>\n",
       "      <td>15</td>\n",
       "      <td>1955</td>\n",
       "      <td>dentist</td>\n",
       "    </tr>\n",
       "    <tr>\n",
       "      <th>2</th>\n",
       "      <td>15</td>\n",
       "      <td>7478</td>\n",
       "      <td>Cambodia</td>\n",
       "    </tr>\n",
       "    <tr>\n",
       "      <th>3</th>\n",
       "      <td>15</td>\n",
       "      <td>32892</td>\n",
       "      <td>Russian</td>\n",
       "    </tr>\n",
       "    <tr>\n",
       "      <th>4</th>\n",
       "      <td>15</td>\n",
       "      <td>34162</td>\n",
       "      <td>forgettable</td>\n",
       "    </tr>\n",
       "  </tbody>\n",
       "</table>\n",
       "</div>"
      ],
      "text/plain": [
       "   userId  movieId                      tag\n",
       "0      15      339  sandra 'boring' bullock\n",
       "1      15     1955                  dentist\n",
       "2      15     7478                 Cambodia\n",
       "3      15    32892                  Russian\n",
       "4      15    34162              forgettable"
      ]
     },
     "execution_count": 6,
     "metadata": {},
     "output_type": "execute_result"
    }
   ],
   "source": [
    "# Deleting unnecessary columns [Not using the timestamp column for our analysis in the meanwhile]\n",
    "\n",
    "del tags['timestamp']\n",
    "tags.head()"
   ]
  },
  {
   "cell_type": "code",
   "execution_count": 7,
   "metadata": {},
   "outputs": [
    {
     "name": "stdout",
     "output_type": "stream",
     "text": [
      "<class 'pandas.core.frame.DataFrame'>\n",
      "RangeIndex: 9125 entries, 0 to 9124\n",
      "Data columns (total 3 columns):\n",
      "movieId    9125 non-null int64\n",
      "title      9125 non-null object\n",
      "genres     9125 non-null object\n",
      "dtypes: int64(1), object(2)\n",
      "memory usage: 213.9+ KB\n"
     ]
    }
   ],
   "source": [
    "# having a look at the columns of movies df\n",
    "movies.info()"
   ]
  },
  {
   "cell_type": "code",
   "execution_count": 8,
   "metadata": {},
   "outputs": [
    {
     "data": {
      "text/plain": [
       "count    100004.000000\n",
       "mean          3.543608\n",
       "std           1.058064\n",
       "min           0.500000\n",
       "25%           3.000000\n",
       "50%           4.000000\n",
       "75%           4.000000\n",
       "max           5.000000\n",
       "Name: rating, dtype: float64"
      ]
     },
     "execution_count": 8,
     "metadata": {},
     "output_type": "execute_result"
    }
   ],
   "source": [
    "# having a look at the distribution of ratings in ratings df\n",
    "ratings['rating'].describe(include='all')"
   ]
  },
  {
   "cell_type": "code",
   "execution_count": 38,
   "metadata": {},
   "outputs": [
    {
     "data": {
      "text/plain": [
       "rating\n",
       "0.5     868\n",
       "1.0    1959\n",
       "1.5    1204\n",
       "2.0    3130\n",
       "2.5    2409\n",
       "3.0    4771\n",
       "3.5    3612\n",
       "4.0    5141\n",
       "4.5    2454\n",
       "5.0    3127\n",
       "Name: movieId, dtype: int64"
      ]
     },
     "execution_count": 38,
     "metadata": {},
     "output_type": "execute_result"
    },
    {
     "data": {
      "text/plain": [
       "array([[<matplotlib.axes._subplots.AxesSubplot object at 0x000001B39441F278>]], dtype=object)"
      ]
     },
     "execution_count": 38,
     "metadata": {},
     "output_type": "execute_result"
    },
    {
     "data": {
      "image/png": "[encoded data removed]",
      "text/plain": [
       "<matplotlib.figure.Figure at 0x1b394460e80>"
      ]
     },
     "metadata": {},
     "output_type": "display_data"
    }
   ],
   "source": [
    "ratings.groupby('rating')['movieId'].nunique()\n",
    "%matplotlib inline\n",
    "ratings.hist(column='rating', figsize=(6,6), bins=5, grid=False, edgecolor='black')"
   ]
  },
  {
   "cell_type": "code",
   "execution_count": 35,
   "metadata": {},
   "outputs": [
    {
     "data": {
      "text/plain": [
       "getdvd       33\n",
       "Ei muista    29\n",
       "toplist07    26\n",
       "tivo         26\n",
       "toplist12    20\n",
       "tcm          20\n",
       "toplist11    20\n",
       "toplist08    19\n",
       "toplist15    19\n",
       "toplist09    18\n",
       "toplist10    18\n",
       "toplist14    18\n",
       "toplist06    16\n",
       "funny        16\n",
       "holes70s     16\n",
       "Name: tag, dtype: int64"
      ]
     },
     "execution_count": 35,
     "metadata": {},
     "output_type": "execute_result"
    },
    {
     "data": {
      "text/plain": [
       "<matplotlib.axes._subplots.AxesSubplot at 0x1b39427e358>"
      ]
     },
     "execution_count": 35,
     "metadata": {},
     "output_type": "execute_result"
    },
    {
     "data": {
      "image/png": "[encoded data removed]",
      "text/plain": [
       "<matplotlib.figure.Figure at 0x1b393ec4940>"
      ]
     },
     "metadata": {},
     "output_type": "display_data"
    }
   ],
   "source": [
    "tag_counts = tags['tag'].value_counts()\n",
    "tag_counts[:15]\n",
    "tag_counts[:15].plot(kind='bar' , figsize=(6,6), edgecolor='black')"
   ]
  },
  {
   "cell_type": "code",
   "execution_count": 39,
   "metadata": {},
   "outputs": [
    {
     "data": {
      "text/plain": [
       "9125"
      ]
     },
     "execution_count": 39,
     "metadata": {},
     "output_type": "execute_result"
    }
   ],
   "source": [
    "movies['movieId'].count()"
   ]
  },
  {
   "cell_type": "code",
   "execution_count": 41,
   "metadata": {
    "collapsed": true
   },
   "outputs": [],
   "source": [
    "## Removing movies with no genre\n",
    "genre_filter= (movies['genres'] == '(no genres listed)')\n",
    "\n",
    "movies=movies[~genre_filter]\n",
    "\n",
    "## Because removing filtered rows does not reindex the dataframe, so we have to reindex the dataframe by our own\n",
    "movies=movies.reset_index(drop=True)  "
   ]
  },
  {
   "cell_type": "code",
   "execution_count": 44,
   "metadata": {},
   "outputs": [
    {
     "data": {
      "text/plain": [
       "{'Action': 1545,\n",
       " 'Adventure': 1117,\n",
       " 'Animation': 447,\n",
       " 'Children': 583,\n",
       " 'Comedy': 3315,\n",
       " 'Crime': 1100,\n",
       " 'Documentary': 495,\n",
       " 'Drama': 4365,\n",
       " 'Fantasy': 654,\n",
       " 'Film-Noir': 133,\n",
       " 'Horror': 877,\n",
       " 'IMAX': 153,\n",
       " 'Musical': 394,\n",
       " 'Mystery': 543,\n",
       " 'Romance': 1545,\n",
       " 'Sci-Fi': 792,\n",
       " 'Thriller': 1729,\n",
       " 'War': 367,\n",
       " 'Western': 168}"
      ]
     },
     "execution_count": 44,
     "metadata": {},
     "output_type": "execute_result"
    }
   ],
   "source": [
    "# Checking total genres present in DataSet\n",
    "\n",
    "genres_count= {}\n",
    "for row in range(movies['movieId'].count()):\n",
    "    for genre in movies['genres'][row].split(\"|\"):\n",
    "        if(genre != ''):\n",
    "            genres_count[genre]= genres_count.get(genre,0)+1\n",
    "        \n",
    "genres_count"
   ]
  },
  {
   "cell_type": "code",
   "execution_count": 49,
   "metadata": {},
   "outputs": [
    {
     "data": {
      "text/plain": [
       "<Container object of 19 artists>"
      ]
     },
     "execution_count": 49,
     "metadata": {},
     "output_type": "execute_result"
    },
    {
     "data": {
      "text/plain": [
       "([<matplotlib.axis.YTick at 0x1b39636f9e8>,\n",
       "  <matplotlib.axis.YTick at 0x1b395e0ad30>,\n",
       "  <matplotlib.axis.YTick at 0x1b394413a20>,\n",
       "  <matplotlib.axis.YTick at 0x1b3963e79b0>,\n",
       "  <matplotlib.axis.YTick at 0x1b3963ec048>,\n",
       "  <matplotlib.axis.YTick at 0x1b3963ec6d8>,\n",
       "  <matplotlib.axis.YTick at 0x1b3963ecd68>,\n",
       "  <matplotlib.axis.YTick at 0x1b3963f4438>,\n",
       "  <matplotlib.axis.YTick at 0x1b3963f4ac8>,\n",
       "  <matplotlib.axis.YTick at 0x1b3963fb198>,\n",
       "  <matplotlib.axis.YTick at 0x1b3963fb828>,\n",
       "  <matplotlib.axis.YTick at 0x1b3963fbeb8>,\n",
       "  <matplotlib.axis.YTick at 0x1b3963ff588>,\n",
       "  <matplotlib.axis.YTick at 0x1b3963ffc18>,\n",
       "  <matplotlib.axis.YTick at 0x1b3964062e8>,\n",
       "  <matplotlib.axis.YTick at 0x1b396406978>,\n",
       "  <matplotlib.axis.YTick at 0x1b39640e048>,\n",
       "  <matplotlib.axis.YTick at 0x1b39640e6d8>,\n",
       "  <matplotlib.axis.YTick at 0x1b39640ed68>],\n",
       " <a list of 19 Text yticklabel objects>)"
      ]
     },
     "execution_count": 49,
     "metadata": {},
     "output_type": "execute_result"
    },
    {
     "data": {
      "text/plain": [
       "Text(0.5,0,'Movie Count')"
      ]
     },
     "execution_count": 49,
     "metadata": {},
     "output_type": "execute_result"
    },
    {
     "data": {
      "text/plain": [
       "Text(0.5,1,'Genre Popularty')"
      ]
     },
     "execution_count": 49,
     "metadata": {},
     "output_type": "execute_result"
    },
    {
     "data": {
      "text/plain": [
       "Text(1137,0.1,'1117')"
      ]
     },
     "execution_count": 49,
     "metadata": {},
     "output_type": "execute_result"
    },
    {
     "data": {
      "text/plain": [
       "Text(467,1.1,'447')"
      ]
     },
     "execution_count": 49,
     "metadata": {},
     "output_type": "execute_result"
    },
    {
     "data": {
      "text/plain": [
       "Text(603,2.1,'583')"
      ]
     },
     "execution_count": 49,
     "metadata": {},
     "output_type": "execute_result"
    },
    {
     "data": {
      "text/plain": [
       "Text(3335,3.1,'3315')"
      ]
     },
     "execution_count": 49,
     "metadata": {},
     "output_type": "execute_result"
    },
    {
     "data": {
      "text/plain": [
       "Text(674,4.1,'654')"
      ]
     },
     "execution_count": 49,
     "metadata": {},
     "output_type": "execute_result"
    },
    {
     "data": {
      "text/plain": [
       "Text(1565,5.1,'1545')"
      ]
     },
     "execution_count": 49,
     "metadata": {},
     "output_type": "execute_result"
    },
    {
     "data": {
      "text/plain": [
       "Text(4385,6.1,'4365')"
      ]
     },
     "execution_count": 49,
     "metadata": {},
     "output_type": "execute_result"
    },
    {
     "data": {
      "text/plain": [
       "Text(1565,7.1,'1545')"
      ]
     },
     "execution_count": 49,
     "metadata": {},
     "output_type": "execute_result"
    },
    {
     "data": {
      "text/plain": [
       "Text(1120,8.1,'1100')"
      ]
     },
     "execution_count": 49,
     "metadata": {},
     "output_type": "execute_result"
    },
    {
     "data": {
      "text/plain": [
       "Text(1749,9.1,'1729')"
      ]
     },
     "execution_count": 49,
     "metadata": {},
     "output_type": "execute_result"
    },
    {
     "data": {
      "text/plain": [
       "Text(897,10.1,'877')"
      ]
     },
     "execution_count": 49,
     "metadata": {},
     "output_type": "execute_result"
    },
    {
     "data": {
      "text/plain": [
       "Text(563,11.1,'543')"
      ]
     },
     "execution_count": 49,
     "metadata": {},
     "output_type": "execute_result"
    },
    {
     "data": {
      "text/plain": [
       "Text(812,12.1,'792')"
      ]
     },
     "execution_count": 49,
     "metadata": {},
     "output_type": "execute_result"
    },
    {
     "data": {
      "text/plain": [
       "Text(515,13.1,'495')"
      ]
     },
     "execution_count": 49,
     "metadata": {},
     "output_type": "execute_result"
    },
    {
     "data": {
      "text/plain": [
       "Text(173,14.1,'153')"
      ]
     },
     "execution_count": 49,
     "metadata": {},
     "output_type": "execute_result"
    },
    {
     "data": {
      "text/plain": [
       "Text(387,15.1,'367')"
      ]
     },
     "execution_count": 49,
     "metadata": {},
     "output_type": "execute_result"
    },
    {
     "data": {
      "text/plain": [
       "Text(414,16.1,'394')"
      ]
     },
     "execution_count": 49,
     "metadata": {},
     "output_type": "execute_result"
    },
    {
     "data": {
      "text/plain": [
       "Text(188,17.1,'168')"
      ]
     },
     "execution_count": 49,
     "metadata": {},
     "output_type": "execute_result"
    },
    {
     "data": {
      "text/plain": [
       "Text(153,18.1,'133')"
      ]
     },
     "execution_count": 49,
     "metadata": {},
     "output_type": "execute_result"
    },
    {
     "data": {
      "image/png": "[encoded data removed]",
      "text/plain": [
       "<matplotlib.figure.Figure at 0x1b39634a438>"
      ]
     },
     "metadata": {},
     "output_type": "display_data"
    }
   ],
   "source": [
    "fig, ax = plt.subplots(figsize=(15,10))\n",
    "plt.barh(range(len(genres_count)), list(genres_count.values()))\n",
    "plt.yticks(range(len(genres_count)),list(genres_count.keys()))\n",
    "plt.xlabel('Movie Count')\n",
    "plt.title(\"Genre Popularty\")\n",
    "for i, v in enumerate(genres_count.values()):\n",
    "    ax.text(v + 20, i + .10, v)"
   ]
  },
  {
   "cell_type": "markdown",
   "metadata": {},
   "source": [
    "##### Observations:\n",
    "\n",
    "There are high number of movies from genre Drama & Comedy. So, they might create abias toward the movies which are from these genres.\n",
    "\n",
    "Film-noir & IMAX are the least popular category for films"
   ]
  },
  {
   "cell_type": "markdown",
   "metadata": {},
   "source": [
    "## Euclidean Distance Score\n",
    "\n",
    "** Euclidean Distance is the square root of the sum of squared differences between corresponding elements of the two vectors.\n",
    "\n",
    "* Euclidean distance is only appropriate for data measured on the same scale.\n",
    "\n",
    "* Distance = 1/(1+sqrt of sum of squares between two points)\n",
    " \n",
    "* Value varies between 0 to 1, where closeness to 1 implies higher similarity."
   ]
  },
  {
   "cell_type": "code",
   "execution_count": 55,
   "metadata": {},
   "outputs": [
    {
     "data": {
      "text/plain": [
       "1.0"
      ]
     },
     "execution_count": 55,
     "metadata": {},
     "output_type": "execute_result"
    }
   ],
   "source": [
    "# Defining a function to calculate the Euclidean Distance between two points\n",
    "\n",
    "def euclidean_distance(person1,person2):\n",
    "    #Getting details of person1 and person2\n",
    "    df_first= ratings.loc[ratings['userId']==person1]\n",
    "    df_second= ratings.loc[ratings.userId==person2]\n",
    "    \n",
    "    #Finding Similar Movies for person1 & person2 \n",
    "    df= pd.merge(df_first,df_second,how='inner',on='movieId')\n",
    "    \n",
    "    #If no similar movie found, return 0 (No Similarity)\n",
    "    if(len(df)==0): return 0\n",
    "    \n",
    "    #sum of squared difference between ratings\n",
    "    sum_of_squares=sum(pow((df['rating_x']-df['rating_y']),2))\n",
    "    return 1/(1+sum_of_squares)\n",
    "    \n",
    "# Check whether this function works by passing similar ID, the Corerelation should be 1\n",
    "euclidean_distance(3,3) "
   ]
  },
  {
   "cell_type": "markdown",
   "metadata": {},
   "source": [
    "## Pearson Correlation Score \n",
    "\n",
    "* Correlation between sets of data is a measure of how well they are related. It shows the linear relationship between two sets of data. In simple terms, it answers the question, Can I draw a line graph to represent the data?\n",
    "\n",
    "\n",
    "* Value varies between -1 to 1.[ 0-> Not related ; -1 -> perfect negatively corelated ; 1-> perfect positively corelated] \n",
    "\n",
    "\n",
    "\n",
    "* Slightly better than Euclidean because it addresses the the situation where the data isn't normalised. Like a User is giving high movie ratings in comparison to AVERAGE user."
   ]
  },
  {
   "cell_type": "code",
   "execution_count": 56,
   "metadata": {},
   "outputs": [
    {
     "data": {
      "text/plain": [
       "1.0"
      ]
     },
     "execution_count": 56,
     "metadata": {},
     "output_type": "execute_result"
    }
   ],
   "source": [
    "# Defining a function to calculate the Pearson Correlation Score between two points\n",
    "\n",
    "def pearson_score(person1,person2):\n",
    "    \n",
    "    #Get detail for Person1 and Person2\n",
    "    df_first= ratings.loc[ratings.userId==person1]\n",
    "    df_second= ratings.loc[ratings.userId==person2]\n",
    "    \n",
    "    # Getting mutually rated items    \n",
    "    df= pd.merge(df_first,df_second,how='inner',on='movieId')\n",
    "    \n",
    "    # If no rating in common\n",
    "    n=len(df)\n",
    "    if n==0: return 0\n",
    "\n",
    "    #Adding up all the ratings\n",
    "    sum1=sum(df['rating_x'])\n",
    "    sum2=sum(df['rating_y'])\n",
    "    \n",
    "    ##Summing up squares of ratings\n",
    "    sum1_square= sum(pow(df['rating_x'],2))\n",
    "    sum2_square= sum(pow(df['rating_y'],2))\n",
    "    \n",
    "    # sum of products\n",
    "    product_sum= sum(df['rating_x']*df['rating_y'])\n",
    "    \n",
    "    ## Calculating Pearson Score\n",
    "    numerator= product_sum - (sum1*sum2/n)\n",
    "    denominator=sqrt((sum1_square- pow(sum1,2)/n) * (sum2_square - pow(sum2,2)/n))\n",
    "    if denominator==0: return 0\n",
    "    \n",
    "    r=numerator/denominator\n",
    "    \n",
    "    return r\n",
    "\n",
    "#Checking function by passing similar ID, Output should be 1\n",
    "pearson_score(1,1)"
   ]
  },
  {
   "cell_type": "markdown",
   "metadata": {},
   "source": [
    "## Getting the results based on Pearson Score"
   ]
  },
  {
   "cell_type": "code",
   "execution_count": 57,
   "metadata": {},
   "outputs": [
    {
     "data": {
      "text/plain": [
       "[(1.0000000000000027, 177),\n",
       " (1.0000000000000027, 177),\n",
       " (1.0000000000000027, 177)]"
      ]
     },
     "execution_count": 57,
     "metadata": {},
     "output_type": "execute_result"
    }
   ],
   "source": [
    "# Returns the best matches for person from the prefs dictionary.\n",
    "# Number of results and similarity function are optional params.\n",
    "def topMatches(personId,n=5,similarity=pearson_score):\n",
    "    scores=[(similarity(personId,other),other) for other in ratings.loc[ratings['userId']!=personId]['userId']]\n",
    "    # Sort the list so the highest scores appear at the top\n",
    "    scores.sort( )\n",
    "    scores.reverse( )\n",
    "    return scores[0:n]\n",
    "\n",
    "topMatches(1,n=3) ## Getting 3 most similar Users for Example "
   ]
  },
  {
   "cell_type": "markdown",
   "metadata": {},
   "source": [
    "## Getting Recommendations"
   ]
  },
  {
   "cell_type": "code",
   "execution_count": 73,
   "metadata": {
    "collapsed": true
   },
   "outputs": [],
   "source": [
    "# Gets recommendations for a person by using a weighted average of every other user's rankings\n",
    "# Defining a function to get the recommendations\n",
    "\n",
    "def getRecommendation(personId, similarity=pearson_score):\n",
    "    '''\n",
    "    totals: Dictionary containing sum of product of Movie Ratings by other user multiplied by weight(similarity)\n",
    "    simSums: Dictionary containung sum of weights for all the users who have rated that particular movie.\n",
    "    '''\n",
    "    totals,simSums= {},{}\n",
    "    \n",
    "    df_person= ratings.loc[ratings.userId==personId]\n",
    "    \n",
    "    for otherId in ratings.loc[ratings['userId']!=personId]['userId']: # all the UserID except personID\n",
    "        \n",
    "        # Getting Similarity with OtherID\n",
    "        sim=similarity(personId,otherId)\n",
    "        \n",
    "        # Ignores Score of Zero or Negatie correlation         \n",
    "        if sim<=0: continue\n",
    "            \n",
    "        df_other=ratings.loc[ratings.userId==otherId]\n",
    "        \n",
    "        #Movies not seen by the personID\n",
    "        movie=df_other[~df_other.isin(df_person).all(1)]\n",
    "        \n",
    "        for movieid,rating in (np.array(movie[['movieId','rating']])):\n",
    "            #similarity* Score\n",
    "            totals.setdefault(movieid,0)\n",
    "            totals[movieid]+=rating*sim\n",
    "            \n",
    "            #Sum of Similarities\n",
    "            simSums.setdefault(movieid,0)\n",
    "            simSums[movieid]+=sim\n",
    "            \n",
    "        \n",
    "        \n",
    "        \n",
    "        # Creating Normalized List\n",
    "        ranking=[(t/simSums[item],item) for item,t in totals.items()]\n",
    "        \n",
    "        # return the sorted List\n",
    "        ranking.sort()\n",
    "        ranking.reverse()\n",
    "        recommendedId=np.array([x[1] for x in ranking])\n",
    "        \n",
    "        \n",
    "        return list(np.array(movies[movies['movieId'].isin(recommendedId)]['title'])[:20])"
   ]
  },
  {
   "cell_type": "code",
   "execution_count": 97,
   "metadata": {},
   "outputs": [
    {
     "name": "stdout",
     "output_type": "stream",
     "text": [
      "Enter Your UserId: 143\n",
      "____________________________________________________\n",
      "\n",
      " Recommended Movies: User 143\n",
      "____________________________________________________\n",
      "GoldenEye (1995)\n",
      "Sense and Sensibility (1995)\n",
      "Clueless (1995)\n",
      "Seven (a.k.a. Se7en) (1995)\n",
      "Usual Suspects, The (1995)\n",
      "Mighty Aphrodite (1995)\n",
      "Mr. Holland's Opus (1995)\n",
      "Braveheart (1995)\n",
      "Brothers McMullen, The (1995)\n",
      "Apollo 13 (1995)\n",
      "Batman Forever (1995)\n",
      "Crimson Tide (1995)\n",
      "Die Hard: With a Vengeance (1995)\n",
      "First Knight (1995)\n",
      "Net, The (1995)\n",
      "Nine Months (1995)\n",
      "Waterworld (1995)\n",
      "Circle of Friends (1995)\n",
      "Clerks (1994)\n",
      "Disclosure (1994)\n",
      "____________________________________________________\n"
     ]
    }
   ],
   "source": [
    "### Example Recommendation\n",
    "# Returns 20 recommended movie for the given UserID\n",
    "# userId can be ranged from 1 to 671\n",
    "\n",
    "# taking the User_Id as input and recommending movies for the user\n",
    "\n",
    "user_id = int(input(\"Enter Your UserId: \"))\n",
    "\n",
    "recommended_movies = getRecommendation(user_id)\n",
    "print(\"____________________________________________________\")\n",
    "print(\"\\n Recommended Movies: User {}\".format(user_id))\n",
    "print(\"____________________________________________________\")\n",
    "print(*recommended_movies, sep='\\n')\n",
    "print(\"____________________________________________________\")"
   ]
  },
  {
   "cell_type": "code",
   "execution_count": null,
   "metadata": {
    "collapsed": true
   },
   "outputs": [],
   "source": []
  }
 ],
 "metadata": {
  "kernelspec": {
   "display_name": "Python 3",
   "language": "python",
   "name": "python3"
  },
  "language_info": {
   "codemirror_mode": {
    "name": "ipython",
    "version": 3
   },
   "file_extension": ".py",
   "mimetype": "text/x-python",
   "name": "python",
   "nbconvert_exporter": "python",
   "pygments_lexer": "ipython3",
   "version": "3.6.3"
  }
 },
 "nbformat": 4,
 "nbformat_minor": 2
}
